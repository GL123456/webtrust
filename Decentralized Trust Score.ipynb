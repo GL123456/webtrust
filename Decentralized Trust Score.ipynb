{
 "cells": [
  {
   "cell_type": "markdown",
   "metadata": {},
   "source": [
    "### Import basic libraries"
   ]
  },
  {
   "cell_type": "code",
   "execution_count": 11,
   "metadata": {},
   "outputs": [],
   "source": [
    "import pandas as pd\n",
    "import numpy as np\n",
    "import matplotlib.pyplot as plt\n",
    "import csv\n",
    "import itertools\n",
    "%matplotlib inline"
   ]
  },
  {
   "cell_type": "markdown",
   "metadata": {},
   "source": [
    "# **Part 1 - Preprocessing Transaction Rating Data**\n",
    "\n",
    "# How do people rate each other on Bitcoin Marketplaces?\n",
    "\n",
    "![TrustKeeperScore](img/TK_rating.png)\n",
    "\n",
    "#### Load TRIMMED_NETWORK for extracting the node data that will be used to train models. Let's look at a portion of the table"
   ]
  },
  {
   "cell_type": "code",
   "execution_count": 12,
   "metadata": {},
   "outputs": [
    {
     "data": {
      "text/html": [
       "<div>\n",
       "<style scoped>\n",
       "    .dataframe tbody tr th:only-of-type {\n",
       "        vertical-align: middle;\n",
       "    }\n",
       "\n",
       "    .dataframe tbody tr th {\n",
       "        vertical-align: top;\n",
       "    }\n",
       "\n",
       "    .dataframe thead th {\n",
       "        text-align: right;\n",
       "    }\n",
       "</style>\n",
       "<table border=\"1\" class=\"dataframe\">\n",
       "  <thead>\n",
       "    <tr style=\"text-align: right;\">\n",
       "      <th></th>\n",
       "      <th>rater</th>\n",
       "      <th>rating</th>\n",
       "      <th>notes</th>\n",
       "      <th>Score</th>\n",
       "    </tr>\n",
       "  </thead>\n",
       "  <tbody>\n",
       "    <tr>\n",
       "      <th>0</th>\n",
       "      <td>sturles</td>\n",
       "      <td>1</td>\n",
       "      <td>great service</td>\n",
       "      <td>9</td>\n",
       "    </tr>\n",
       "    <tr>\n",
       "      <th>1</th>\n",
       "      <td>Keefe</td>\n",
       "      <td>7</td>\n",
       "      <td>timely response</td>\n",
       "      <td>7</td>\n",
       "    </tr>\n",
       "    <tr>\n",
       "      <th>2</th>\n",
       "      <td>BigBitz</td>\n",
       "      <td>1</td>\n",
       "      <td>nanooooo!</td>\n",
       "      <td>-5</td>\n",
       "    </tr>\n",
       "    <tr>\n",
       "      <th>3</th>\n",
       "      <td>Michail1</td>\n",
       "      <td>5</td>\n",
       "      <td>.</td>\n",
       "      <td>1</td>\n",
       "    </tr>\n",
       "    <tr>\n",
       "      <th>4</th>\n",
       "      <td>Blazed</td>\n",
       "      <td>4</td>\n",
       "      <td>several deals..Smooth™</td>\n",
       "      <td>8</td>\n",
       "    </tr>\n",
       "    <tr>\n",
       "      <th>5</th>\n",
       "      <td>ne0futur</td>\n",
       "      <td>8</td>\n",
       "      <td>NaN</td>\n",
       "      <td>0</td>\n",
       "    </tr>\n",
       "    <tr>\n",
       "      <th>6</th>\n",
       "      <td>Ssateneth</td>\n",
       "      <td>3</td>\n",
       "      <td>:)</td>\n",
       "      <td>6</td>\n",
       "    </tr>\n",
       "  </tbody>\n",
       "</table>\n",
       "</div>"
      ],
      "text/plain": [
       "      rater   rating                   notes  Score\n",
       "0    sturles       1           great service      9\n",
       "1      Keefe       7         timely response      7\n",
       "2    BigBitz       1               nanooooo!     -5\n",
       "3   Michail1       5                       .      1\n",
       "4     Blazed       4  several deals..Smooth™      8\n",
       "5   ne0futur       8                     NaN      0\n",
       "6  Ssateneth       3                      :)      6"
      ]
     },
     "execution_count": 12,
     "metadata": {},
     "output_type": "execute_result"
    }
   ],
   "source": [
    "sentiment = pd.read_csv(\"sentiment.csv\")\n",
    "sentiment"
   ]
  },
  {
   "cell_type": "code",
   "execution_count": 13,
   "metadata": {},
   "outputs": [
    {
     "data": {
      "text/html": [
       "<div>\n",
       "<style scoped>\n",
       "    .dataframe tbody tr th:only-of-type {\n",
       "        vertical-align: middle;\n",
       "    }\n",
       "\n",
       "    .dataframe tbody tr th {\n",
       "        vertical-align: top;\n",
       "    }\n",
       "\n",
       "    .dataframe thead th {\n",
       "        text-align: right;\n",
       "    }\n",
       "</style>\n",
       "<table border=\"1\" class=\"dataframe\">\n",
       "  <thead>\n",
       "    <tr style=\"text-align: right;\">\n",
       "      <th></th>\n",
       "      <th>SOURCE</th>\n",
       "      <th>TARGET</th>\n",
       "      <th>RATING</th>\n",
       "      <th>TIMESTAMP</th>\n",
       "      <th>EPISODE</th>\n",
       "    </tr>\n",
       "  </thead>\n",
       "  <tbody>\n",
       "    <tr>\n",
       "      <th>0</th>\n",
       "      <td>35</td>\n",
       "      <td>3952</td>\n",
       "      <td>1</td>\n",
       "      <td>1.365623e+09</td>\n",
       "      <td>21958</td>\n",
       "    </tr>\n",
       "    <tr>\n",
       "      <th>1</th>\n",
       "      <td>2125</td>\n",
       "      <td>5379</td>\n",
       "      <td>-1</td>\n",
       "      <td>1.392045e+09</td>\n",
       "      <td>32086</td>\n",
       "    </tr>\n",
       "    <tr>\n",
       "      <th>2</th>\n",
       "      <td>5227</td>\n",
       "      <td>5854</td>\n",
       "      <td>1</td>\n",
       "      <td>1.417038e+09</td>\n",
       "      <td>35751</td>\n",
       "    </tr>\n",
       "    <tr>\n",
       "      <th>3</th>\n",
       "      <td>6013</td>\n",
       "      <td>13492</td>\n",
       "      <td>-1</td>\n",
       "      <td>1.393304e+09</td>\n",
       "      <td>32395</td>\n",
       "    </tr>\n",
       "    <tr>\n",
       "      <th>4</th>\n",
       "      <td>6013</td>\n",
       "      <td>13495</td>\n",
       "      <td>-1</td>\n",
       "      <td>1.392008e+09</td>\n",
       "      <td>32075</td>\n",
       "    </tr>\n",
       "  </tbody>\n",
       "</table>\n",
       "</div>"
      ],
      "text/plain": [
       "   SOURCE  TARGET  RATING     TIMESTAMP  EPISODE\n",
       "0      35    3952       1  1.365623e+09    21958\n",
       "1    2125    5379      -1  1.392045e+09    32086\n",
       "2    5227    5854       1  1.417038e+09    35751\n",
       "3    6013   13492      -1  1.393304e+09    32395\n",
       "4    6013   13495      -1  1.392008e+09    32075"
      ]
     },
     "execution_count": 13,
     "metadata": {},
     "output_type": "execute_result"
    }
   ],
   "source": [
    "trim_network = pd.read_csv('2_TRIMMED_NETWORK.csv')\n",
    "trim_network.head()"
   ]
  },
  {
   "cell_type": "markdown",
   "metadata": {},
   "source": [
    "#### Define function to extract node features from the network dataframe"
   ]
  },
  {
   "cell_type": "code",
   "execution_count": 14,
   "metadata": {},
   "outputs": [],
   "source": [
    "def GetNodeFeatures(GDF,n):\n",
    "    if n==0:\n",
    "        return ['in_degree','pos_in_edges','neg_in_edges','out_degree','pos_out_edges','neg_out_edges']\n",
    "    # Get sub-dataframes\n",
    "    outgoing = GDF[GDF['SOURCE']==n].copy().reset_index(drop=True)\n",
    "    incoming = GDF[GDF['TARGET']==n].copy().reset_index(drop=True)\n",
    "    \n",
    "    # Compute node degree (incoming)\n",
    "    in_degree = len(incoming)\n",
    "    \n",
    "    # Compute node degree (outgoing)\n",
    "    out_degree = len(outgoing)\n",
    "    \n",
    "    # Compute number of incoming nodes with positive ratings\n",
    "    pos_in_edges = len([i for i in incoming.RATING.values if i>0])\n",
    "    \n",
    "    # Computer number of incoming nodes with negative ratings\n",
    "    neg_in_edges = len([i for i in incoming.RATING.values if i<0])\n",
    "    \n",
    "    # Repeat for outgoing edges\n",
    "    pos_out_edges = len([i for i in outgoing.RATING.values if i>0])\n",
    "    \n",
    "    # Computer number of incoming nodes with negative ratings\n",
    "    neg_out_edges = len([i for i in outgoing.RATING.values if i<0])\n",
    "    \n",
    "    return np.array([in_degree,pos_in_edges,neg_in_edges,out_degree,pos_out_edges,neg_out_edges])"
   ]
  },
  {
   "cell_type": "markdown",
   "metadata": {},
   "source": [
    "#### Obtain node features for all nodes in trimmed network"
   ]
  },
  {
   "cell_type": "code",
   "execution_count": 15,
   "metadata": {},
   "outputs": [],
   "source": [
    "# Define list of nodes and sort it in ascending order\n",
    "nodes = list( set(trim_network['SOURCE']) | set(trim_network['TARGET']) )\n",
    "nodes.sort()\n",
    "\n",
    "# Create NF, the node feature matrix\n",
    "NF = np.zeros([len(nodes),6])\n",
    "for i,n in enumerate(nodes):\n",
    "    NF[i,:] = np.array(GetNodeFeatures(trim_network,n))\n",
    "    \n",
    "# Create a dataframe containing all these node features\n",
    "NF_df = pd.DataFrame(columns=GetNodeFeatures(trim_network,0),data=NF,index=nodes)\n",
    "NF_df.to_csv('trimmed_node_features.csv')"
   ]
  },
  {
   "cell_type": "code",
   "execution_count": 16,
   "metadata": {},
   "outputs": [],
   "source": [
    "NF_df = pd.read_csv('trimmed_node_features.csv',index_col=0)"
   ]
  },
  {
   "cell_type": "markdown",
   "metadata": {},
   "source": [
    "#### Create an edgelist file for the trimmed network"
   ]
  },
  {
   "cell_type": "code",
   "execution_count": 17,
   "metadata": {},
   "outputs": [],
   "source": [
    "f = open('trimmed_network.edgelist','w')\n",
    "for i in range(len(trim_network)):\n",
    "    s = str(trim_network['SOURCE'][i])\n",
    "    t = str(trim_network['TARGET'][i])\n",
    "    f.write(s+' '+t+'\\n')\n",
    "f.close()"
   ]
  },
  {
   "cell_type": "markdown",
   "metadata": {},
   "source": [
    "#### Run [Node2Vec](https://snap.stanford.edu/node2vec/) to learn an embedding for each node in the trimmed_network\n",
    "\n",
    "We will set the embedding dimension to 14, the number of walks to 25, and the number of iterations to 15.\n",
    "\n",
    "Run this command in your terminal inside this directory (make sure your python environment is set to python=2.7). This step will take a while\n",
    "```bash\n",
    "python ./node2vec/src/main.py --input ./trimmed_network.edgelist --output ./trimmed_network.emb --dimensions 14 --num-walks 25 --iter 15\n",
    "```"
   ]
  },
  {
   "cell_type": "markdown",
   "metadata": {},
   "source": [
    "#### Create dictionary of nodes:embeddings fromthe trimmed_network.emb file created above"
   ]
  },
  {
   "cell_type": "code",
   "execution_count": 18,
   "metadata": {},
   "outputs": [
    {
     "data": {
      "text/plain": [
       "(9664, 14)"
      ]
     },
     "execution_count": 18,
     "metadata": {},
     "output_type": "execute_result"
    }
   ],
   "source": [
    "n = []\n",
    "e = []\n",
    "with open('./trimmed_network.emb') as fin:\n",
    "    for line in fin:\n",
    "        node_emb = line.strip().split()\n",
    "        n.append(node_emb[0])\n",
    "        e.append(node_emb[1:])\n",
    "n = n[1:]\n",
    "n = [int(i) for i in n]\n",
    "embs = np.zeros([len(e)-1,14])\n",
    "for i in range(1,len(e)):\n",
    "    embs[i-1] = e[i]\n",
    "embs.shape"
   ]
  },
  {
   "cell_type": "markdown",
   "metadata": {},
   "source": [
    "#### Create a 2D projection of the embeddings using [t-SNE](https://lvdmaaten.github.io/tsne/)"
   ]
  },
  {
   "cell_type": "code",
   "execution_count": 19,
   "metadata": {},
   "outputs": [],
   "source": [
    "#tsne = manifold.TSNE(n_components=2, init='pca', random_state=0)\n",
    "#proj = tsne.fit_transform(embs)\n",
    "#np.save('trimmed_network_tSNE_projection.npy',proj)\n",
    "proj = np.load('trimmed_network_tSNE_projection.npy')"
   ]
  },
  {
   "cell_type": "markdown",
   "metadata": {},
   "source": [
    "#### Plot node projections and color them according to the Bitcoin Marketplace they belong to (OTC or ALPHA)"
   ]
  },
  {
   "cell_type": "code",
   "execution_count": 20,
   "metadata": {},
   "outputs": [],
   "source": [
    "alpha_nodes = []\n",
    "otc_nodes = []\n",
    "for i in range(len(n)):\n",
    "    if n[i] > 6005: # The highest OTC node ID is 6005\n",
    "        alpha_nodes.append(i)\n",
    "    else:\n",
    "        otc_nodes.append(i)"
   ]
  },
  {
   "cell_type": "code",
   "execution_count": 21,
   "metadata": {},
   "outputs": [
    {
     "data": {
      "text/plain": [
       "Text(0.5,1,'2-dimensional mapping with t-SNE of Bitcoin network nodes with Node2Vec')"
      ]
     },
     "execution_count": 21,
     "metadata": {},
     "output_type": "execute_result"
    },
    {
     "data": {
      "image/png": "[encoded data removed]",
      "text/plain": [
       "<Figure size 720x720 with 1 Axes>"
      ]
     },
     "metadata": {
      "needs_background": "light"
     },
     "output_type": "display_data"
    }
   ],
   "source": [
    "plt.figure(figsize=(10,10))\n",
    "alpha = proj[alpha_nodes,:]\n",
    "otc = proj[otc_nodes,:]\n",
    "plt.scatter(otc[:,0],otc[:,1],c='r',label='Bitcoin OTC')\n",
    "plt.legend()\n",
    "plt.title('2-dimensional mapping with t-SNE of Bitcoin network nodes with Node2Vec')"
   ]
  },
  {
   "cell_type": "markdown",
   "metadata": {},
   "source": [
    "#### Thus, Node2Vec is able to represent nodes in a 14-dimensional space that accounts for the network structure the nodes' neighborhoods. We will expand these node representations by concatenating the 6 node features we calculated earlier so that we get a final 20-dimensional representation for each node.\n",
    "\n",
    "#### **Normalize node features and concatenate with Node2Vec embeddings**"
   ]
  },
  {
   "cell_type": "code",
   "execution_count": 22,
   "metadata": {},
   "outputs": [
    {
     "data": {
      "text/plain": [
       "(9664, 20)"
      ]
     },
     "execution_count": 22,
     "metadata": {},
     "output_type": "execute_result"
    }
   ],
   "source": [
    "NF_matrix = np.zeros([len(n),20]) # Recall that we have 14 Node2Vec features plus 6 features extracted from the rating network\n",
    "for i in range(len(n)):\n",
    "    NF_matrix[i] = np.concatenate([embs[i],np.log2(NF_df.loc[n[i]].values + 1)])\n",
    "NF_matrix.shape"
   ]
  },
  {
   "cell_type": "markdown",
   "metadata": {},
   "source": [
    "#### Because all 20 features have different scales, we will normalize the entire matrix using the following formula:\n",
    "\n",
    "$$X_{normalized}=\\frac{X - \\mu_{X}}{\\sigma_{X}}$$\n",
    "\n",
    "Where $\\mu_X$ and $\\sigma_X$ are the columnwise mean/STD values of the matrix $X$. In this way, we ensure that all values in the matrix lie within the $[-3\\sigma_X,3\\sigma_X]$ range"
   ]
  },
  {
   "cell_type": "code",
   "execution_count": 23,
   "metadata": {},
   "outputs": [],
   "source": [
    "NF_matrix_mean = np.mean(NF_matrix,axis=0)\n",
    "NF_matrix_std = np.std(NF_matrix,axis=0)\n",
    "NF_matrix_norm = ( NF_matrix - NF_matrix_mean ) / ( NF_matrix_std )"
   ]
  },
  {
   "cell_type": "markdown",
   "metadata": {},
   "source": [
    "#### Capture node ID and embedding into a DataFrame"
   ]
  },
  {
   "cell_type": "code",
   "execution_count": 24,
   "metadata": {},
   "outputs": [
    {
     "data": {
      "text/html": [
       "<div>\n",
       "<style scoped>\n",
       "    .dataframe tbody tr th:only-of-type {\n",
       "        vertical-align: middle;\n",
       "    }\n",
       "\n",
       "    .dataframe tbody tr th {\n",
       "        vertical-align: top;\n",
       "    }\n",
       "\n",
       "    .dataframe thead th {\n",
       "        text-align: right;\n",
       "    }\n",
       "</style>\n",
       "<table border=\"1\" class=\"dataframe\">\n",
       "  <thead>\n",
       "    <tr style=\"text-align: right;\">\n",
       "      <th></th>\n",
       "      <th>1</th>\n",
       "      <th>2</th>\n",
       "      <th>3</th>\n",
       "      <th>4</th>\n",
       "      <th>5</th>\n",
       "      <th>6</th>\n",
       "      <th>7</th>\n",
       "      <th>8</th>\n",
       "      <th>9</th>\n",
       "      <th>10</th>\n",
       "      <th>11</th>\n",
       "      <th>12</th>\n",
       "      <th>13</th>\n",
       "      <th>14</th>\n",
       "      <th>15</th>\n",
       "      <th>16</th>\n",
       "      <th>17</th>\n",
       "      <th>18</th>\n",
       "      <th>19</th>\n",
       "      <th>20</th>\n",
       "    </tr>\n",
       "  </thead>\n",
       "  <tbody>\n",
       "    <tr>\n",
       "      <th>35</th>\n",
       "      <td>-1.774256</td>\n",
       "      <td>-0.448314</td>\n",
       "      <td>0.047397</td>\n",
       "      <td>0.612565</td>\n",
       "      <td>0.797896</td>\n",
       "      <td>-0.789905</td>\n",
       "      <td>-0.051981</td>\n",
       "      <td>-0.121641</td>\n",
       "      <td>-0.866701</td>\n",
       "      <td>0.772711</td>\n",
       "      <td>-0.960294</td>\n",
       "      <td>-0.634862</td>\n",
       "      <td>-0.391693</td>\n",
       "      <td>0.070921</td>\n",
       "      <td>5.995989</td>\n",
       "      <td>5.966601</td>\n",
       "      <td>-0.403738</td>\n",
       "      <td>5.764529</td>\n",
       "      <td>5.928494</td>\n",
       "      <td>5.244485</td>\n",
       "    </tr>\n",
       "    <tr>\n",
       "      <th>6006</th>\n",
       "      <td>-0.501574</td>\n",
       "      <td>-0.084692</td>\n",
       "      <td>0.723285</td>\n",
       "      <td>-1.407241</td>\n",
       "      <td>-0.649710</td>\n",
       "      <td>1.117009</td>\n",
       "      <td>0.567946</td>\n",
       "      <td>0.082475</td>\n",
       "      <td>-0.241229</td>\n",
       "      <td>-1.279825</td>\n",
       "      <td>0.483483</td>\n",
       "      <td>-0.937666</td>\n",
       "      <td>-1.084376</td>\n",
       "      <td>0.990163</td>\n",
       "      <td>5.628302</td>\n",
       "      <td>5.607510</td>\n",
       "      <td>-0.403738</td>\n",
       "      <td>5.253367</td>\n",
       "      <td>5.415542</td>\n",
       "      <td>2.245152</td>\n",
       "    </tr>\n",
       "    <tr>\n",
       "      <th>2642</th>\n",
       "      <td>-1.139167</td>\n",
       "      <td>-0.513084</td>\n",
       "      <td>1.118884</td>\n",
       "      <td>0.059454</td>\n",
       "      <td>-0.080315</td>\n",
       "      <td>-0.162173</td>\n",
       "      <td>0.315040</td>\n",
       "      <td>0.686051</td>\n",
       "      <td>0.649060</td>\n",
       "      <td>1.255844</td>\n",
       "      <td>-0.181627</td>\n",
       "      <td>0.228191</td>\n",
       "      <td>0.024559</td>\n",
       "      <td>-0.302619</td>\n",
       "      <td>5.577683</td>\n",
       "      <td>5.554465</td>\n",
       "      <td>1.132302</td>\n",
       "      <td>5.057479</td>\n",
       "      <td>5.198008</td>\n",
       "      <td>4.509349</td>\n",
       "    </tr>\n",
       "    <tr>\n",
       "      <th>2125</th>\n",
       "      <td>0.168152</td>\n",
       "      <td>0.876179</td>\n",
       "      <td>-0.513470</td>\n",
       "      <td>-0.215777</td>\n",
       "      <td>-0.248220</td>\n",
       "      <td>-0.916373</td>\n",
       "      <td>-0.365312</td>\n",
       "      <td>0.893897</td>\n",
       "      <td>0.826803</td>\n",
       "      <td>0.918575</td>\n",
       "      <td>-0.683717</td>\n",
       "      <td>1.040111</td>\n",
       "      <td>1.754360</td>\n",
       "      <td>-0.239251</td>\n",
       "      <td>4.613721</td>\n",
       "      <td>4.616648</td>\n",
       "      <td>-0.403738</td>\n",
       "      <td>5.057479</td>\n",
       "      <td>4.230008</td>\n",
       "      <td>12.063567</td>\n",
       "    </tr>\n",
       "    <tr>\n",
       "      <th>1810</th>\n",
       "      <td>0.072147</td>\n",
       "      <td>0.400560</td>\n",
       "      <td>0.326883</td>\n",
       "      <td>-0.186649</td>\n",
       "      <td>1.174607</td>\n",
       "      <td>-0.715021</td>\n",
       "      <td>-0.125926</td>\n",
       "      <td>1.679218</td>\n",
       "      <td>-0.296529</td>\n",
       "      <td>0.525661</td>\n",
       "      <td>-0.017292</td>\n",
       "      <td>0.255513</td>\n",
       "      <td>0.899269</td>\n",
       "      <td>0.118267</td>\n",
       "      <td>5.310770</td>\n",
       "      <td>5.124245</td>\n",
       "      <td>7.598189</td>\n",
       "      <td>5.026762</td>\n",
       "      <td>4.650978</td>\n",
       "      <td>11.015487</td>\n",
       "    </tr>\n",
       "  </tbody>\n",
       "</table>\n",
       "</div>"
      ],
      "text/plain": [
       "            1         2         3         4         5         6         7   \\\n",
       "35   -1.774256 -0.448314  0.047397  0.612565  0.797896 -0.789905 -0.051981   \n",
       "6006 -0.501574 -0.084692  0.723285 -1.407241 -0.649710  1.117009  0.567946   \n",
       "2642 -1.139167 -0.513084  1.118884  0.059454 -0.080315 -0.162173  0.315040   \n",
       "2125  0.168152  0.876179 -0.513470 -0.215777 -0.248220 -0.916373 -0.365312   \n",
       "1810  0.072147  0.400560  0.326883 -0.186649  1.174607 -0.715021 -0.125926   \n",
       "\n",
       "            8         9         10        11        12        13        14  \\\n",
       "35   -0.121641 -0.866701  0.772711 -0.960294 -0.634862 -0.391693  0.070921   \n",
       "6006  0.082475 -0.241229 -1.279825  0.483483 -0.937666 -1.084376  0.990163   \n",
       "2642  0.686051  0.649060  1.255844 -0.181627  0.228191  0.024559 -0.302619   \n",
       "2125  0.893897  0.826803  0.918575 -0.683717  1.040111  1.754360 -0.239251   \n",
       "1810  1.679218 -0.296529  0.525661 -0.017292  0.255513  0.899269  0.118267   \n",
       "\n",
       "            15        16        17        18        19         20  \n",
       "35    5.995989  5.966601 -0.403738  5.764529  5.928494   5.244485  \n",
       "6006  5.628302  5.607510 -0.403738  5.253367  5.415542   2.245152  \n",
       "2642  5.577683  5.554465  1.132302  5.057479  5.198008   4.509349  \n",
       "2125  4.613721  4.616648 -0.403738  5.057479  4.230008  12.063567  \n",
       "1810  5.310770  5.124245  7.598189  5.026762  4.650978  11.015487  "
      ]
     },
     "execution_count": 24,
     "metadata": {},
     "output_type": "execute_result"
    }
   ],
   "source": [
    "emb_df_norm = pd.DataFrame(columns=list(range(1,21)),index=n,data=NF_matrix_norm)\n",
    "emb_df_norm.head()"
   ]
  },
  {
   "cell_type": "code",
   "execution_count": 25,
   "metadata": {},
   "outputs": [],
   "source": [
    "emb_df_norm.to_csv('./trimmed_node_embeddings_mean_normalized.csv')"
   ]
  },
  {
   "cell_type": "markdown",
   "metadata": {},
   "source": [
    "#### Construct the input matrix $X$ and the output vector $y$. Each row of the $X$ matrix contains 40 values (20 values for the source node or buyer, 20 values for the target node or seller). The $y$ vector captures the rating of the transaction the seller received from the buyer. \n",
    "\n",
    "#### **NOTE:** Here we assign a score of 1 if transaction is rated badly (fraud), and 0 otherwise"
   ]
  },
  {
   "cell_type": "code",
   "execution_count": 26,
   "metadata": {},
   "outputs": [],
   "source": [
    "#emb_df_norm = pd.read_csv('trimmed_node_embeddings_normalized.csv',index_col=0)\n",
    "#emb_df_norm = pd.read_csv('trimmed_node_embeddings_normalized_with_log10.csv',index_col=0)\n",
    "emb_df_norm = pd.read_csv('./trimmed_node_embeddings_mean_normalized.csv', index_col=0)"
   ]
  },
  {
   "cell_type": "markdown",
   "metadata": {},
   "source": [
    "### Create X input matrix and y output vector"
   ]
  },
  {
   "cell_type": "code",
   "execution_count": 27,
   "metadata": {},
   "outputs": [],
   "source": [
    "X = np.zeros([len(trim_network),40])\n",
    "y = np.zeros(len(trim_network))\n",
    "for i in range(len(trim_network)):\n",
    "    s = trim_network['SOURCE'][i]\n",
    "    t = trim_network['TARGET'][i]\n",
    "    r = trim_network['RATING'][i]\n",
    "    left = emb_df_norm.loc[s,:].values\n",
    "    right = emb_df_norm.loc[t,:].values\n",
    "    X[i,:] = np.concatenate([left,right])\n",
    "    if r>0:\n",
    "        y[i] = 0 # If not fraud\n",
    "    else:\n",
    "        y[i] = 1 # If fraud"
   ]
  },
  {
   "cell_type": "markdown",
   "metadata": {},
   "source": [
    "#### Repeat procedure for calculating the $X_{val}$ and $y_{val}$ from the validation table"
   ]
  },
  {
   "cell_type": "code",
   "execution_count": 28,
   "metadata": {},
   "outputs": [],
   "source": [
    "val_network = pd.read_csv('3_TEST_NETWORK.csv')\n",
    "X_val = np.zeros([len(val_network),40])\n",
    "y_val = np.zeros(len(val_network))\n",
    "for i in range(len(val_network)):\n",
    "    s = val_network['SOURCE'][i]\n",
    "    t = val_network['TARGET'][i]\n",
    "    r = val_network['RATING'][i]\n",
    "    left = emb_df_norm.loc[s,:].values\n",
    "    right = emb_df_norm.loc[t,:].values\n",
    "    X_val[i,:] = np.concatenate([left,right])\n",
    "    if r>0:\n",
    "        y_val[i] = 0 # If not fraud\n",
    "    else:\n",
    "        y_val[i] = 1 # If fraud (class imbalance)"
   ]
  },
  {
   "cell_type": "markdown",
   "metadata": {},
   "source": [
    "# **Part 2 - Model Construction, training, and evaluation**\n",
    "\n",
    "#### Models evaluated:\n",
    "\n",
    "* **TrusKeeper** (Deep Neural Network trained with both Node2Vec features and perception scores)\n",
    "* Deep Neural Network trained with perception scores only\n",
    "* Logistic Regression trained with both Node2Vec features and perception scores\n",
    "* Logistic Regression trained with perception scores only"
   ]
  },
  {
   "cell_type": "markdown",
   "metadata": {},
   "source": [
    "#### Load Machine/Deep Learning libraries"
   ]
  },
  {
   "cell_type": "code",
   "execution_count": 29,
   "metadata": {},
   "outputs": [
    {
     "name": "stderr",
     "output_type": "stream",
     "text": [
      "Using TensorFlow backend.\n"
     ]
    }
   ],
   "source": [
    "# Machine Learning\n",
    "from sklearn.model_selection import train_test_split\n",
    "from sklearn.preprocessing import StandardScaler, RobustScaler\n",
    "from sklearn.model_selection import cross_val_score\n",
    "from sklearn.model_selection import KFold\n",
    "from sklearn.preprocessing import LabelEncoder\n",
    "from sklearn.pipeline import Pipeline\n",
    "from sklearn.linear_model import LogisticRegression\n",
    "from sklearn import metrics\n",
    "from sklearn.metrics import confusion_matrix as cm\n",
    "from sklearn.metrics import classification_report\n",
    "from sklearn.metrics import roc_auc_score\n",
    "from sklearn.metrics import roc_curve\n",
    "\n",
    "# Deep Learning\n",
    "import keras\n",
    "from keras.models import Sequential\n",
    "from keras.layers import Dense\n",
    "from keras.models import load_model\n",
    "from keras.wrappers.scikit_learn import KerasClassifier\n",
    "from keras.layers import Input, Convolution2D, MaxPooling2D, Dense, Dropout, Flatten\n",
    "from keras.utils import np_utils\n",
    "from keras.layers.merge import Concatenate"
   ]
  },
  {
   "cell_type": "markdown",
   "metadata": {},
   "source": [
    "#### Define function for generating small samples from training data to train Neural Networks without biasing it towards the most abundant category (0)"
   ]
  },
  {
   "cell_type": "code",
   "execution_count": 30,
   "metadata": {},
   "outputs": [],
   "source": [
    "# Create train and test sets\n",
    "x_train, x_test, y_train, y_test = train_test_split(X,y,test_size= 0.2,random_state=0)\n",
    "def CreateSample(frac=0.8):\n",
    "    fraud_indices = np.array([i for i in range(len(y_train)) if y_train[i]==1])\n",
    "    not_fraud_indices = np.array([i for i in range(len(y_train)) if y_train[i]==0])\n",
    "    sample_size = int(np.round( len(fraud_indices) * frac ))\n",
    "    fraud_sample = np.random.randint(0,len(fraud_indices),sample_size) \n",
    "    not_fraud_sample = np.random.randint(0,len(not_fraud_indices),sample_size)\n",
    "    y_sample = np.concatenate([y_train[fraud_indices][fraud_sample],y_train[not_fraud_indices[not_fraud_sample]]])\n",
    "    x_sample = np.concatenate([x_train[fraud_indices][fraud_sample],x_train[not_fraud_indices[not_fraud_sample]]])\n",
    "    return x_sample,y_sample"
   ]
  },
  {
   "cell_type": "markdown",
   "metadata": {},
   "source": [
    "### Define a function to plot Confusion Matrices"
   ]
  },
  {
   "cell_type": "code",
   "execution_count": 31,
   "metadata": {},
   "outputs": [],
   "source": [
    "def plot_confusion_matrix(cm, classes,\n",
    "                          normalize=False,\n",
    "                          title='Confusion matrix',\n",
    "                          cmap=plt.cm.Blues):\n",
    "    \"\"\"\n",
    "    This function prints and plots the confusion matrix.\n",
    "    Normalization can be applied by setting `normalize=True`.\n",
    "    \"\"\"\n",
    "    if normalize:\n",
    "        cm = cm.astype('float') / cm.sum(axis=1)[:, np.newaxis]\n",
    "        print(\"Normalized confusion matrix\")\n",
    "    else:\n",
    "        print('Confusion matrix, without normalization')\n",
    "\n",
    "    print(cm)\n",
    "\n",
    "    plt.imshow(cm, interpolation='nearest', cmap=cmap)\n",
    "    plt.title(title)\n",
    "    plt.colorbar()\n",
    "    tick_marks = np.arange(len(classes))\n",
    "    plt.xticks(tick_marks, classes, rotation=45)\n",
    "    plt.yticks(tick_marks, classes)\n",
    "\n",
    "    fmt = '.2f' if normalize else 'd'\n",
    "    thresh = cm.max() / 2.\n",
    "    for i, j in itertools.product(range(cm.shape[0]), range(cm.shape[1])):\n",
    "        plt.text(j, i, format(cm[i, j], fmt),\n",
    "                 horizontalalignment=\"center\",\n",
    "                 color=\"white\" if cm[i, j] > thresh else \"black\")\n",
    "\n",
    "    plt.ylabel('True label')\n",
    "    plt.xlabel('Predicted label')\n",
    "    plt.tight_layout()"
   ]
  },
  {
   "cell_type": "markdown",
   "metadata": {},
   "source": [
    "### Construct TrustKeeper model"
   ]
  },
  {
   "cell_type": "code",
   "execution_count": 32,
   "metadata": {},
   "outputs": [
    {
     "name": "stdout",
     "output_type": "stream",
     "text": [
      "WARNING:tensorflow:From /Users/Deepesh.Chaudhari/anaconda3/lib/python3.7/site-packages/tensorflow/python/framework/op_def_library.py:263: colocate_with (from tensorflow.python.framework.ops) is deprecated and will be removed in a future version.\n",
      "Instructions for updating:\n",
      "Colocations handled automatically by placer.\n"
     ]
    }
   ],
   "source": [
    "# Initialize model\n",
    "\n",
    "input_size = 40 # Features from X matrix\n",
    "\n",
    "M1 = Sequential()\n",
    "\n",
    "# Add an input layer\n",
    "M1.add(Dense(128, activation='relu', input_shape=(input_size,)))\n",
    "\n",
    "# Add first hidden layer\n",
    "M1.add(Dense(128, activation='relu'))\n",
    "\n",
    "# Add second hidden layer\n",
    "M1.add(Dense(64, activation='relu'))\n",
    "\n",
    "#Add third hidden layer\n",
    "M1.add(Dense(32, activation='relu'))\n",
    "\n",
    "#Add fourth hidden layer\n",
    "M1.add(Dense(16, activation='relu'))\n",
    "\n",
    "# Add output layer\n",
    "M1.add(Dense(1,activation='sigmoid'))\n",
    "\n",
    "# Define optimizers\n",
    "nadam = keras.optimizers.Nadam(lr=1e-6, beta_1=0.9, beta_2=0.999, epsilon=None, schedule_decay=0.004)\n",
    "sgd = keras.optimizers.SGD(lr=1e-3, decay=1e-6, momentum=0.9, nesterov=True)\n",
    "\n",
    "M1.compile(loss='binary_crossentropy',\n",
    "              optimizer=nadam,\n",
    "              metrics=['accuracy'])\n",
    "\n",
    "# Define parameters\n",
    "Nepochs = 10"
   ]
  },
  {
   "cell_type": "markdown",
   "metadata": {},
   "source": [
    "### Train Model using Bootstrapping"
   ]
  },
  {
   "cell_type": "code",
   "execution_count": 33,
   "metadata": {},
   "outputs": [
    {
     "name": "stdout",
     "output_type": "stream",
     "text": [
      "WARNING:tensorflow:From /Users/Deepesh.Chaudhari/anaconda3/lib/python3.7/site-packages/tensorflow/python/ops/math_ops.py:3066: to_int32 (from tensorflow.python.ops.math_ops) is deprecated and will be removed in a future version.\n",
      "Instructions for updating:\n",
      "Use tf.cast instead.\n"
     ]
    }
   ],
   "source": [
    "for i in range(15):\n",
    "    sample_x,sample_y = CreateSample()\n",
    "    M1.fit(sample_x, sample_y, epochs=Nepochs, batch_size=5, verbose=0)"
   ]
  },
  {
   "cell_type": "markdown",
   "metadata": {},
   "source": [
    "### Evaluate Model 1 with test set"
   ]
  },
  {
   "cell_type": "code",
   "execution_count": 34,
   "metadata": {},
   "outputs": [
    {
     "name": "stdout",
     "output_type": "stream",
     "text": [
      "Classification Report for TrustKeeper\n",
      "              precision    recall  f1-score   support\n",
      "\n",
      "         0.0       0.99      0.93      0.96      9119\n",
      "         1.0       0.57      0.93      0.70       846\n",
      "\n",
      "   micro avg       0.93      0.93      0.93      9965\n",
      "   macro avg       0.78      0.93      0.83      9965\n",
      "weighted avg       0.96      0.93      0.94      9965\n",
      "\n"
     ]
    }
   ],
   "source": [
    "y_pred = M1.predict(x_test)\n",
    "\n",
    "# Print classfication report\n",
    "target_names = ['Honest','Fraudulent']\n",
    "confusion_matrix = cm(y_test, np.round(y_pred))\n",
    "print(\"Classification Report for TrustKeeper\")\n",
    "print(classification_report(y_test, np.round(y_pred)))"
   ]
  },
  {
   "cell_type": "code",
   "execution_count": 35,
   "metadata": {},
   "outputs": [
    {
     "name": "stdout",
     "output_type": "stream",
     "text": [
      "Normalized confusion matrix\n",
      "[[0.93354534 0.06645466]\n",
      " [0.06737589 0.93262411]]\n"
     ]
    },
    {
     "data": {
      "image/png": "[encoded data removed]",
      "text/plain": [
       "<Figure size 576x432 with 2 Axes>"
      ]
     },
     "metadata": {
      "needs_background": "light"
     },
     "output_type": "display_data"
    }
   ],
   "source": [
    "# Plot normalized confusion matrix\n",
    "plt.figure(figsize=(8,6))\n",
    "plot_confusion_matrix(confusion_matrix, classes=target_names, normalize=True,\n",
    "                      title='Normalized confusion matrix')"
   ]
  },
  {
   "cell_type": "markdown",
   "metadata": {},
   "source": [
    "### Existing model with validation set"
   ]
  },
  {
   "cell_type": "code",
   "execution_count": 36,
   "metadata": {},
   "outputs": [
    {
     "name": "stdout",
     "output_type": "stream",
     "text": [
      "Classification Report for TrustKeeper (Validation set)\n",
      "              precision    recall  f1-score   support\n",
      "\n",
      "         0.0       0.98      0.92      0.95      9075\n",
      "         1.0       0.48      0.77      0.59       881\n",
      "\n",
      "   micro avg       0.91      0.91      0.91      9956\n",
      "   macro avg       0.73      0.84      0.77      9956\n",
      "weighted avg       0.93      0.91      0.92      9956\n",
      "\n"
     ]
    }
   ],
   "source": [
    "y_pred = M1.predict(X_val)\n",
    "# Print confusion matrix\n",
    "confusion_matrix = cm(y_val, np.round(y_pred))\n",
    "print(\"Classification Report for TrustKeeper (Validation set)\")\n",
    "print(classification_report(y_val, np.round(y_pred)))"
   ]
  },
  {
   "cell_type": "code",
   "execution_count": 37,
   "metadata": {},
   "outputs": [
    {
     "name": "stdout",
     "output_type": "stream",
     "text": [
      "Normalized confusion matrix\n",
      "[[0.91922865 0.08077135]\n",
      " [0.2338252  0.7661748 ]]\n"
     ]
    },
    {
     "data": {
      "image/png": "[encoded data removed]",
      "text/plain": [
       "<Figure size 576x432 with 2 Axes>"
      ]
     },
     "metadata": {
      "needs_background": "light"
     },
     "output_type": "display_data"
    }
   ],
   "source": [
    "# Plot normalized confusion matrix\n",
    "plt.figure(figsize=(8,6))\n",
    "plot_confusion_matrix(confusion_matrix, classes=target_names, normalize=True,\n",
    "                      title='Normalized confusion matrix (Validation)')"
   ]
  },
  {
   "cell_type": "markdown",
   "metadata": {},
   "source": [
    "### Construct Neural Net model (without Node2Vec features)"
   ]
  },
  {
   "cell_type": "code",
   "execution_count": 38,
   "metadata": {},
   "outputs": [],
   "source": [
    "# Initialize model\n",
    "\n",
    "input_size = 12 # Features from X matrix (only the perception scores)\n",
    "\n",
    "M2 = Sequential()\n",
    "\n",
    "# Add an input layer\n",
    "M2.add(Dense(128, activation='relu', input_shape=(input_size,)))\n",
    "\n",
    "# Add first hidden layer\n",
    "M2.add(Dense(128, activation='relu'))\n",
    "\n",
    "# Add second hidden layer\n",
    "M2.add(Dense(64, activation='relu'))\n",
    "\n",
    "#Add third hidden layer\n",
    "M2.add(Dense(32, activation='relu'))\n",
    "\n",
    "#Add fourth hidden layer\n",
    "M2.add(Dense(16, activation='relu'))\n",
    "\n",
    "# Add output layer\n",
    "M2.add(Dense(1,activation='sigmoid'))\n",
    "\n",
    "# Define optimizers\n",
    "nadam = keras.optimizers.Nadam(lr=1e-6, beta_1=0.9, beta_2=0.999, epsilon=None, schedule_decay=0.004)\n",
    "sgd = keras.optimizers.SGD(lr=1e-3, decay=1e-6, momentum=0.9, nesterov=True)\n",
    "\n",
    "M2.compile(loss='binary_crossentropy',\n",
    "              optimizer=nadam,\n",
    "              metrics=['accuracy'])\n",
    "\n",
    "# Define parameters\n",
    "Nepochs = 10"
   ]
  },
  {
   "cell_type": "markdown",
   "metadata": {},
   "source": [
    "### Train Model using Bootstrapping"
   ]
  },
  {
   "cell_type": "code",
   "execution_count": 39,
   "metadata": {},
   "outputs": [],
   "source": [
    "cols_to_keep = list(range(14,20)) + list(range(34,40))\n",
    "for i in range(15):\n",
    "    sample_x,sample_y = CreateSample()\n",
    "    M2.fit(sample_x[:,cols_to_keep], sample_y, epochs=Nepochs, batch_size=5, verbose=0)"
   ]
  },
  {
   "cell_type": "markdown",
   "metadata": {},
   "source": [
    "### Evaluate Model 1 with test set"
   ]
  },
  {
   "cell_type": "code",
   "execution_count": 40,
   "metadata": {},
   "outputs": [
    {
     "name": "stdout",
     "output_type": "stream",
     "text": [
      "Classification Report for Model 2 (NN w/o Node2Vec)\n",
      "              precision    recall  f1-score   support\n",
      "\n",
      "         0.0       0.99      0.94      0.97      9119\n",
      "         1.0       0.59      0.95      0.73       846\n",
      "\n",
      "   micro avg       0.94      0.94      0.94      9965\n",
      "   macro avg       0.79      0.94      0.85      9965\n",
      "weighted avg       0.96      0.94      0.95      9965\n",
      "\n"
     ]
    }
   ],
   "source": [
    "y_pred = M2.predict(x_test[:,cols_to_keep])\n",
    "\n",
    "# Print classfication report\n",
    "target_names = ['Honest','Fraudulent']\n",
    "confusion_matrix = cm(y_test, np.round(y_pred))\n",
    "print(\"Classification Report for Model 2 (NN w/o Node2Vec)\")\n",
    "print(classification_report(y_test, np.round(y_pred)))"
   ]
  },
  {
   "cell_type": "code",
   "execution_count": 41,
   "metadata": {},
   "outputs": [
    {
     "name": "stdout",
     "output_type": "stream",
     "text": [
      "Model 2\n",
      "Normalized confusion matrix\n",
      "[[0.93946705 0.06053295]\n",
      " [0.05200946 0.94799054]]\n"
     ]
    },
    {
     "data": {
      "image/png": "[encoded data removed]",
      "text/plain": [
       "<Figure size 576x432 with 2 Axes>"
      ]
     },
     "metadata": {
      "needs_background": "light"
     },
     "output_type": "display_data"
    }
   ],
   "source": [
    "# Plot normalized confusion matrix\n",
    "print('Model 2')\n",
    "plt.figure(figsize=(8,6))\n",
    "plot_confusion_matrix(confusion_matrix, classes=target_names, normalize=True,\n",
    "                      title='Normalized confusion matrix (Validation)')"
   ]
  },
  {
   "cell_type": "markdown",
   "metadata": {},
   "source": [
    "### Evaluate Model 2 with validation set"
   ]
  },
  {
   "cell_type": "code",
   "execution_count": 42,
   "metadata": {},
   "outputs": [
    {
     "name": "stdout",
     "output_type": "stream",
     "text": [
      "Classification Report for TrustKeeper (Validation set)\n",
      "              precision    recall  f1-score   support\n",
      "\n",
      "         0.0       0.97      0.92      0.95      9075\n",
      "         1.0       0.48      0.73      0.58       881\n",
      "\n",
      "   micro avg       0.91      0.91      0.91      9956\n",
      "   macro avg       0.73      0.83      0.76      9956\n",
      "weighted avg       0.93      0.91      0.91      9956\n",
      "\n"
     ]
    }
   ],
   "source": [
    "y_pred = M2.predict(X_val[:,cols_to_keep])\n",
    "# Print confusion matrix\n",
    "confusion_matrix = cm(y_val, np.round(y_pred))\n",
    "print(\"Classification Report for TrustKeeper (Validation set)\")\n",
    "print(classification_report(y_val, np.round(y_pred)))"
   ]
  },
  {
   "cell_type": "code",
   "execution_count": 43,
   "metadata": {},
   "outputs": [
    {
     "name": "stdout",
     "output_type": "stream",
     "text": [
      "Normalized confusion matrix\n",
      "[[0.92264463 0.07735537]\n",
      " [0.26901249 0.73098751]]\n"
     ]
    },
    {
     "data": {
      "image/png": "[encoded data removed]",
      "text/plain": [
       "<Figure size 576x432 with 2 Axes>"
      ]
     },
     "metadata": {
      "needs_background": "light"
     },
     "output_type": "display_data"
    }
   ],
   "source": [
    "# Plot normalized confusion matrix\n",
    "plt.figure(figsize=(8,6))\n",
    "plot_confusion_matrix(confusion_matrix, classes=target_names, normalize=True,\n",
    "                      title='Normalized confusion matrix (Validation)')"
   ]
  },
  {
   "cell_type": "markdown",
   "metadata": {},
   "source": [
    " ### Construct Model 3 (Logistic Regression with network features and perception scores)"
   ]
  },
  {
   "cell_type": "code",
   "execution_count": 44,
   "metadata": {},
   "outputs": [],
   "source": [
    "M3 = LogisticRegression()"
   ]
  },
  {
   "cell_type": "markdown",
   "metadata": {},
   "source": [
    "### Train Model 3"
   ]
  },
  {
   "cell_type": "code",
   "execution_count": 45,
   "metadata": {},
   "outputs": [
    {
     "name": "stderr",
     "output_type": "stream",
     "text": [
      "/Users/Deepesh.Chaudhari/anaconda3/lib/python3.7/site-packages/sklearn/linear_model/logistic.py:433: FutureWarning: Default solver will be changed to 'lbfgs' in 0.22. Specify a solver to silence this warning.\n",
      "  FutureWarning)\n"
     ]
    },
    {
     "data": {
      "text/plain": [
       "LogisticRegression(C=1.0, class_weight=None, dual=False, fit_intercept=True,\n",
       "          intercept_scaling=1, max_iter=100, multi_class='warn',\n",
       "          n_jobs=None, penalty='l2', random_state=None, solver='warn',\n",
       "          tol=0.0001, verbose=0, warm_start=False)"
      ]
     },
     "execution_count": 45,
     "metadata": {},
     "output_type": "execute_result"
    }
   ],
   "source": [
    "M3.fit(x_train, y_train)"
   ]
  },
  {
   "cell_type": "markdown",
   "metadata": {},
   "source": [
    "### Evaluate Model 3 with test data"
   ]
  },
  {
   "cell_type": "code",
   "execution_count": 46,
   "metadata": {},
   "outputs": [
    {
     "name": "stdout",
     "output_type": "stream",
     "text": [
      "Accuracy of logistic regression classifier on test set: 0.96\n",
      "Classification Report for Logistic Regression\n",
      "              precision    recall  f1-score   support\n",
      "\n",
      "         0.0       0.97      0.99      0.98      9119\n",
      "         1.0       0.84      0.66      0.74       846\n",
      "\n",
      "   micro avg       0.96      0.96      0.96      9965\n",
      "   macro avg       0.90      0.82      0.86      9965\n",
      "weighted avg       0.96      0.96      0.96      9965\n",
      "\n"
     ]
    }
   ],
   "source": [
    "y_pred = M3.predict(x_test)\n",
    "print('Accuracy of logistic regression classifier on test set: {:.2f}'.format(M3.score(x_test, y_test)))\n",
    "\n",
    "confusion_matrix = cm(y_test, y_pred)\n",
    "print(\"Classification Report for Logistic Regression\")\n",
    "print(classification_report(y_test, y_pred))"
   ]
  },
  {
   "cell_type": "code",
   "execution_count": 47,
   "metadata": {},
   "outputs": [
    {
     "name": "stdout",
     "output_type": "stream",
     "text": [
      "Normalized confusion matrix\n",
      "[[0.98804693 0.01195307]\n",
      " [0.3392435  0.6607565 ]]\n"
     ]
    },
    {
     "data": {
      "image/png": "[encoded data removed]",
      "text/plain": [
       "<Figure size 576x432 with 2 Axes>"
      ]
     },
     "metadata": {
      "needs_background": "light"
     },
     "output_type": "display_data"
    }
   ],
   "source": [
    "# Plot normalized confusion matrix\n",
    "plt.figure(figsize=(8,6))\n",
    "plot_confusion_matrix(confusion_matrix, classes=target_names, normalize=True,\n",
    "                      title='Normalized confusion matrix')"
   ]
  },
  {
   "cell_type": "markdown",
   "metadata": {},
   "source": [
    "### Evaluate Model 3 with validation data"
   ]
  },
  {
   "cell_type": "code",
   "execution_count": 48,
   "metadata": {},
   "outputs": [
    {
     "name": "stdout",
     "output_type": "stream",
     "text": [
      "Accuracy of logistic regression classifier on test set: 0.94\n",
      "Classification Report for Logistic Regression (Validation)\n",
      "              precision    recall  f1-score   support\n",
      "\n",
      "         0.0       0.96      0.98      0.97      9075\n",
      "         1.0       0.75      0.54      0.63       881\n",
      "\n",
      "   micro avg       0.94      0.94      0.94      9956\n",
      "   macro avg       0.85      0.76      0.80      9956\n",
      "weighted avg       0.94      0.94      0.94      9956\n",
      "\n"
     ]
    }
   ],
   "source": [
    "y_pred = M3.predict(X_val)\n",
    "print('Accuracy of logistic regression classifier on test set: {:.2f}'.format(M3.score(X_val, y_val)))\n",
    "\n",
    "confusion_matrix = cm(y_val, y_pred)\n",
    "print(\"Classification Report for Logistic Regression (Validation)\")\n",
    "print(classification_report(y_val, y_pred))"
   ]
  },
  {
   "cell_type": "code",
   "execution_count": 49,
   "metadata": {},
   "outputs": [
    {
     "name": "stdout",
     "output_type": "stream",
     "text": [
      "Normalized confusion matrix\n",
      "[[0.98236915 0.01763085]\n",
      " [0.45970488 0.54029512]]\n"
     ]
    },
    {
     "data": {
      "image/png": "[encoded data removed]",
      "text/plain": [
       "<Figure size 576x432 with 2 Axes>"
      ]
     },
     "metadata": {
      "needs_background": "light"
     },
     "output_type": "display_data"
    }
   ],
   "source": [
    "# Plot normalized confusion matrix\n",
    "plt.figure(figsize=(8,6))\n",
    "plot_confusion_matrix(confusion_matrix, classes=target_names, normalize=True,\n",
    "                      title='Normalized confusion matrix (Validation)')"
   ]
  },
  {
   "cell_type": "markdown",
   "metadata": {},
   "source": [
    " ### Construct Model 4 (Logistic Regression without network features)"
   ]
  },
  {
   "cell_type": "code",
   "execution_count": 50,
   "metadata": {},
   "outputs": [],
   "source": [
    "M4 = LogisticRegression()"
   ]
  },
  {
   "cell_type": "markdown",
   "metadata": {},
   "source": [
    "### Train Model 4 with Bootstrapping"
   ]
  },
  {
   "cell_type": "code",
   "execution_count": 51,
   "metadata": {},
   "outputs": [
    {
     "name": "stderr",
     "output_type": "stream",
     "text": [
      "/Users/Deepesh.Chaudhari/anaconda3/lib/python3.7/site-packages/sklearn/linear_model/logistic.py:433: FutureWarning: Default solver will be changed to 'lbfgs' in 0.22. Specify a solver to silence this warning.\n",
      "  FutureWarning)\n"
     ]
    },
    {
     "data": {
      "text/plain": [
       "LogisticRegression(C=1.0, class_weight=None, dual=False, fit_intercept=True,\n",
       "          intercept_scaling=1, max_iter=100, multi_class='warn',\n",
       "          n_jobs=None, penalty='l2', random_state=None, solver='warn',\n",
       "          tol=0.0001, verbose=0, warm_start=False)"
      ]
     },
     "execution_count": 51,
     "metadata": {},
     "output_type": "execute_result"
    }
   ],
   "source": [
    "M4.fit(x_train[:,cols_to_keep], y_train)"
   ]
  },
  {
   "cell_type": "markdown",
   "metadata": {},
   "source": [
    "### Evaluate Model 4 with test data"
   ]
  },
  {
   "cell_type": "code",
   "execution_count": 52,
   "metadata": {},
   "outputs": [
    {
     "ename": "ValueError",
     "evalue": "X has 12 features per sample; expecting 40",
     "output_type": "error",
     "traceback": [
      "\u001b[0;31m---------------------------------------------------------------------------\u001b[0m",
      "\u001b[0;31mValueError\u001b[0m                                Traceback (most recent call last)",
      "\u001b[0;32m<ipython-input-52-31d523e26b92>\u001b[0m in \u001b[0;36m<module>\u001b[0;34m()\u001b[0m\n\u001b[0;32m----> 1\u001b[0;31m \u001b[0my_pred\u001b[0m \u001b[0;34m=\u001b[0m \u001b[0mM3\u001b[0m\u001b[0;34m.\u001b[0m\u001b[0mpredict\u001b[0m\u001b[0;34m(\u001b[0m\u001b[0mx_test\u001b[0m\u001b[0;34m[\u001b[0m\u001b[0;34m:\u001b[0m\u001b[0;34m,\u001b[0m\u001b[0mcols_to_keep\u001b[0m\u001b[0;34m]\u001b[0m\u001b[0;34m)\u001b[0m\u001b[0;34m\u001b[0m\u001b[0m\n\u001b[0m\u001b[1;32m      2\u001b[0m \u001b[0mprint\u001b[0m\u001b[0;34m(\u001b[0m\u001b[0;34m'Accuracy of logistic regression classifier on test set: {:.2f}'\u001b[0m\u001b[0;34m.\u001b[0m\u001b[0mformat\u001b[0m\u001b[0;34m(\u001b[0m\u001b[0mM4\u001b[0m\u001b[0;34m.\u001b[0m\u001b[0mscore\u001b[0m\u001b[0;34m(\u001b[0m\u001b[0mx_test\u001b[0m\u001b[0;34m[\u001b[0m\u001b[0;34m:\u001b[0m\u001b[0;34m,\u001b[0m\u001b[0mcols_to_keep\u001b[0m\u001b[0;34m]\u001b[0m\u001b[0;34m,\u001b[0m \u001b[0my_test\u001b[0m\u001b[0;34m)\u001b[0m\u001b[0;34m)\u001b[0m\u001b[0;34m)\u001b[0m\u001b[0;34m\u001b[0m\u001b[0m\n\u001b[1;32m      3\u001b[0m \u001b[0;34m\u001b[0m\u001b[0m\n\u001b[1;32m      4\u001b[0m \u001b[0mconfusion_matrix\u001b[0m \u001b[0;34m=\u001b[0m \u001b[0mcm\u001b[0m\u001b[0;34m(\u001b[0m\u001b[0my_test\u001b[0m\u001b[0;34m,\u001b[0m \u001b[0my_pred\u001b[0m\u001b[0;34m)\u001b[0m\u001b[0;34m\u001b[0m\u001b[0m\n\u001b[1;32m      5\u001b[0m \u001b[0mprint\u001b[0m\u001b[0;34m(\u001b[0m\u001b[0;34m\"Classification Report for Logistic Regression\"\u001b[0m\u001b[0;34m)\u001b[0m\u001b[0;34m\u001b[0m\u001b[0m\n",
      "\u001b[0;32m~/anaconda3/lib/python3.7/site-packages/sklearn/linear_model/base.py\u001b[0m in \u001b[0;36mpredict\u001b[0;34m(self, X)\u001b[0m\n\u001b[1;32m    279\u001b[0m             \u001b[0mPredicted\u001b[0m \u001b[0;32mclass\u001b[0m \u001b[0mlabel\u001b[0m \u001b[0mper\u001b[0m \u001b[0msample\u001b[0m\u001b[0;34m.\u001b[0m\u001b[0;34m\u001b[0m\u001b[0m\n\u001b[1;32m    280\u001b[0m         \"\"\"\n\u001b[0;32m--> 281\u001b[0;31m         \u001b[0mscores\u001b[0m \u001b[0;34m=\u001b[0m \u001b[0mself\u001b[0m\u001b[0;34m.\u001b[0m\u001b[0mdecision_function\u001b[0m\u001b[0;34m(\u001b[0m\u001b[0mX\u001b[0m\u001b[0;34m)\u001b[0m\u001b[0;34m\u001b[0m\u001b[0m\n\u001b[0m\u001b[1;32m    282\u001b[0m         \u001b[0;32mif\u001b[0m \u001b[0mlen\u001b[0m\u001b[0;34m(\u001b[0m\u001b[0mscores\u001b[0m\u001b[0;34m.\u001b[0m\u001b[0mshape\u001b[0m\u001b[0;34m)\u001b[0m \u001b[0;34m==\u001b[0m \u001b[0;36m1\u001b[0m\u001b[0;34m:\u001b[0m\u001b[0;34m\u001b[0m\u001b[0m\n\u001b[1;32m    283\u001b[0m             \u001b[0mindices\u001b[0m \u001b[0;34m=\u001b[0m \u001b[0;34m(\u001b[0m\u001b[0mscores\u001b[0m \u001b[0;34m>\u001b[0m \u001b[0;36m0\u001b[0m\u001b[0;34m)\u001b[0m\u001b[0;34m.\u001b[0m\u001b[0mastype\u001b[0m\u001b[0;34m(\u001b[0m\u001b[0mnp\u001b[0m\u001b[0;34m.\u001b[0m\u001b[0mint\u001b[0m\u001b[0;34m)\u001b[0m\u001b[0;34m\u001b[0m\u001b[0m\n",
      "\u001b[0;32m~/anaconda3/lib/python3.7/site-packages/sklearn/linear_model/base.py\u001b[0m in \u001b[0;36mdecision_function\u001b[0;34m(self, X)\u001b[0m\n\u001b[1;32m    260\u001b[0m         \u001b[0;32mif\u001b[0m \u001b[0mX\u001b[0m\u001b[0;34m.\u001b[0m\u001b[0mshape\u001b[0m\u001b[0;34m[\u001b[0m\u001b[0;36m1\u001b[0m\u001b[0;34m]\u001b[0m \u001b[0;34m!=\u001b[0m \u001b[0mn_features\u001b[0m\u001b[0;34m:\u001b[0m\u001b[0;34m\u001b[0m\u001b[0m\n\u001b[1;32m    261\u001b[0m             raise ValueError(\"X has %d features per sample; expecting %d\"\n\u001b[0;32m--> 262\u001b[0;31m                              % (X.shape[1], n_features))\n\u001b[0m\u001b[1;32m    263\u001b[0m \u001b[0;34m\u001b[0m\u001b[0m\n\u001b[1;32m    264\u001b[0m         scores = safe_sparse_dot(X, self.coef_.T,\n",
      "\u001b[0;31mValueError\u001b[0m: X has 12 features per sample; expecting 40"
     ]
    }
   ],
   "source": [
    "y_pred = M3.predict(x_test[:,cols_to_keep])\n",
    "print('Accuracy of logistic regression classifier on test set: {:.2f}'.format(M4.score(x_test[:,cols_to_keep], y_test)))\n",
    "\n",
    "confusion_matrix = cm(y_test, y_pred)\n",
    "print(\"Classification Report for Logistic Regression\")\n",
    "print(classification_report(y_test, y_pred))"
   ]
  },
  {
   "cell_type": "code",
   "execution_count": null,
   "metadata": {},
   "outputs": [],
   "source": [
    "# Plot normalized confusion matrix\n",
    "plt.figure(figsize=(8,6))\n",
    "plot_confusion_matrix(confusion_matrix, classes=target_names, normalize=True,\n",
    "                      title='Normalized confusion matrix')"
   ]
  },
  {
   "cell_type": "markdown",
   "metadata": {},
   "source": [
    "### Evaluate Model 4 with validation data"
   ]
  },
  {
   "cell_type": "code",
   "execution_count": null,
   "metadata": {},
   "outputs": [],
   "source": [
    "y_pred = M4.predict(X_val[:,cols_to_keep])\n",
    "print('Accuracy of logistic regression classifier on test set: {:.2f}'.format(M4.score(X_val[:,cols_to_keep], y_val)))\n",
    "\n",
    "confusion_matrix = cm(y_val, y_pred)\n",
    "print(\"Classification Report for Logistic Regression (Validation)\")\n",
    "print(classification_report(y_val, y_pred))"
   ]
  },
  {
   "cell_type": "code",
   "execution_count": null,
   "metadata": {},
   "outputs": [],
   "source": [
    "# Plot normalized confusion matrix\n",
    "plt.figure(figsize=(8,6))\n",
    "plot_confusion_matrix(confusion_matrix, classes=target_names, normalize=True,\n",
    "                      title='Normalized confusion matrix (Validation)')"
   ]
  },
  {
   "cell_type": "markdown",
   "metadata": {},
   "source": [
    "### Save models"
   ]
  },
  {
   "cell_type": "code",
   "execution_count": null,
   "metadata": {},
   "outputs": [],
   "source": [
    "import pickle\n",
    "M1.save('Models/TrustKeeper.h5')\n",
    "M2.save('Models/Model_2_NN.h5')\n",
    "filename = 'Models/Model_3_LR.pickle'\n",
    "pickle.dump(M3, open(filename, 'wb'))\n",
    "filename = 'Models/Model_4_LR_no_Node2Vec.pickle'\n",
    "pickle.dump(M4, open(filename, 'wb'))"
   ]
  },
  {
   "cell_type": "markdown",
   "metadata": {},
   "source": [
    "# Plot ROC/AUC on validation data"
   ]
  },
  {
   "cell_type": "code",
   "execution_count": null,
   "metadata": {},
   "outputs": [],
   "source": [
    "plt.figure(figsize=(8,8))\n",
    "\n",
    "logit_roc_auc = roc_auc_score(y_val, M1.predict(X_val))\n",
    "fpr, tpr, thresholds = roc_curve(y_val, M1.predict_proba(X_val))\n",
    "plt.plot(fpr, tpr, alpha=0.8, linewidth=2.0,label='TrustKeeper (area = %0.2f)' % (logit_roc_auc))\n",
    "\n",
    "logit_roc_auc = roc_auc_score(y_val, M2.predict(X_val[:,cols_to_keep]))\n",
    "fpr, tpr, thresholds = roc_curve(y_val, M2.predict_proba(X_val[:,cols_to_keep]))\n",
    "plt.plot(fpr, tpr, alpha=0.8, linewidth=2.0,label='NN w/o Node2Vec (area = %0.2f)' % (logit_roc_auc))\n",
    "\n",
    "logit_roc_auc = roc_auc_score(y_val, M3.predict(X_val))\n",
    "fpr, tpr, thresholds = roc_curve(y_val, M3.predict_proba(X_val)[:,1])\n",
    "plt.plot(fpr, tpr, alpha=0.8, linewidth=2.0,label='LR (area = %0.2f)' % (logit_roc_auc))\n",
    "\n",
    "logit_roc_auc = roc_auc_score(y_val, M4.predict(X_val[:,cols_to_keep]))\n",
    "fpr, tpr, thresholds = roc_curve(y_val, M4.predict_proba(X_val[:,cols_to_keep])[:,1])\n",
    "plt.plot(fpr, tpr, alpha=0.8, linewidth=2.0,label='LR (area = %0.2f)' % (logit_roc_auc))\n",
    "\n",
    "plt.plot([0, 1], [0, 1],'r--')\n",
    "plt.xlim([0.0, 1.0])\n",
    "plt.ylim([0.0, 1.05])\n",
    "plt.xlabel('False Positive Rate')\n",
    "plt.ylabel('True Positive Rate')\n",
    "plt.title('TrustKeeper VS Other Models')\n",
    "plt.legend(loc=\"lower right\")\n",
    "#plt.savefig('img/TK_performance.png')"
   ]
  },
  {
   "cell_type": "code",
   "execution_count": null,
   "metadata": {},
   "outputs": [],
   "source": []
  },
  {
   "cell_type": "code",
   "execution_count": null,
   "metadata": {},
   "outputs": [],
   "source": []
  },
  {
   "cell_type": "code",
   "execution_count": null,
   "metadata": {},
   "outputs": [],
   "source": []
  },
  {
   "cell_type": "code",
   "execution_count": null,
   "metadata": {},
   "outputs": [],
   "source": []
  },
  {
   "cell_type": "code",
   "execution_count": null,
   "metadata": {},
   "outputs": [],
   "source": []
  },
  {
   "cell_type": "code",
   "execution_count": null,
   "metadata": {},
   "outputs": [],
   "source": []
  },
  {
   "cell_type": "code",
   "execution_count": null,
   "metadata": {},
   "outputs": [],
   "source": []
  },
  {
   "cell_type": "code",
   "execution_count": null,
   "metadata": {},
   "outputs": [],
   "source": []
  },
  {
   "cell_type": "code",
   "execution_count": null,
   "metadata": {},
   "outputs": [],
   "source": []
  }
 ],
 "metadata": {
  "kernelspec": {
   "display_name": "Python 3",
   "language": "python",
   "name": "python3"
  },
  "language_info": {
   "codemirror_mode": {
    "name": "ipython",
    "version": 3
   },
   "file_extension": ".py",
   "mimetype": "text/x-python",
   "name": "python",
   "nbconvert_exporter": "python",
   "pygments_lexer": "ipython3",
   "version": "3.7.0"
  }
 },
 "nbformat": 4,
 "nbformat_minor": 2
}
